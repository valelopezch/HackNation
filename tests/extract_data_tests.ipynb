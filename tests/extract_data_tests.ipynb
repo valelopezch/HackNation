{
 "cells": [
  {
   "cell_type": "code",
   "execution_count": 1,
   "id": "fc812cdc",
   "metadata": {},
   "outputs": [
    {
     "ename": "FileNotFoundError",
     "evalue": "[Errno 2] No such file or directory: 'Data/raw_data.csv'",
     "output_type": "error",
     "traceback": [
      "\u001b[1;31m---------------------------------------------------------------------------\u001b[0m",
      "\u001b[1;31mFileNotFoundError\u001b[0m                         Traceback (most recent call last)",
      "Cell \u001b[1;32mIn[1], line 3\u001b[0m\n\u001b[0;32m      1\u001b[0m \u001b[38;5;28;01mimport\u001b[39;00m \u001b[38;5;21;01mpandas\u001b[39;00m \u001b[38;5;28;01mas\u001b[39;00m \u001b[38;5;21;01mpd\u001b[39;00m\n\u001b[1;32m----> 3\u001b[0m data \u001b[38;5;241m=\u001b[39m \u001b[43mpd\u001b[49m\u001b[38;5;241;43m.\u001b[39;49m\u001b[43mread_csv\u001b[49m\u001b[43m(\u001b[49m\u001b[38;5;124;43m'\u001b[39;49m\u001b[38;5;124;43mData/raw_data.csv\u001b[39;49m\u001b[38;5;124;43m'\u001b[39;49m\u001b[43m)\u001b[49m\n",
      "File \u001b[1;32mc:\\Users\\k513eq\\AppData\\Local\\Programs\\Python\\Python311\\Lib\\site-packages\\pandas\\io\\parsers\\readers.py:1026\u001b[0m, in \u001b[0;36mread_csv\u001b[1;34m(filepath_or_buffer, sep, delimiter, header, names, index_col, usecols, dtype, engine, converters, true_values, false_values, skipinitialspace, skiprows, skipfooter, nrows, na_values, keep_default_na, na_filter, verbose, skip_blank_lines, parse_dates, infer_datetime_format, keep_date_col, date_parser, date_format, dayfirst, cache_dates, iterator, chunksize, compression, thousands, decimal, lineterminator, quotechar, quoting, doublequote, escapechar, comment, encoding, encoding_errors, dialect, on_bad_lines, delim_whitespace, low_memory, memory_map, float_precision, storage_options, dtype_backend)\u001b[0m\n\u001b[0;32m   1013\u001b[0m kwds_defaults \u001b[38;5;241m=\u001b[39m _refine_defaults_read(\n\u001b[0;32m   1014\u001b[0m     dialect,\n\u001b[0;32m   1015\u001b[0m     delimiter,\n\u001b[1;32m   (...)\u001b[0m\n\u001b[0;32m   1022\u001b[0m     dtype_backend\u001b[38;5;241m=\u001b[39mdtype_backend,\n\u001b[0;32m   1023\u001b[0m )\n\u001b[0;32m   1024\u001b[0m kwds\u001b[38;5;241m.\u001b[39mupdate(kwds_defaults)\n\u001b[1;32m-> 1026\u001b[0m \u001b[38;5;28;01mreturn\u001b[39;00m \u001b[43m_read\u001b[49m\u001b[43m(\u001b[49m\u001b[43mfilepath_or_buffer\u001b[49m\u001b[43m,\u001b[49m\u001b[43m \u001b[49m\u001b[43mkwds\u001b[49m\u001b[43m)\u001b[49m\n",
      "File \u001b[1;32mc:\\Users\\k513eq\\AppData\\Local\\Programs\\Python\\Python311\\Lib\\site-packages\\pandas\\io\\parsers\\readers.py:620\u001b[0m, in \u001b[0;36m_read\u001b[1;34m(filepath_or_buffer, kwds)\u001b[0m\n\u001b[0;32m    617\u001b[0m _validate_names(kwds\u001b[38;5;241m.\u001b[39mget(\u001b[38;5;124m\"\u001b[39m\u001b[38;5;124mnames\u001b[39m\u001b[38;5;124m\"\u001b[39m, \u001b[38;5;28;01mNone\u001b[39;00m))\n\u001b[0;32m    619\u001b[0m \u001b[38;5;66;03m# Create the parser.\u001b[39;00m\n\u001b[1;32m--> 620\u001b[0m parser \u001b[38;5;241m=\u001b[39m \u001b[43mTextFileReader\u001b[49m\u001b[43m(\u001b[49m\u001b[43mfilepath_or_buffer\u001b[49m\u001b[43m,\u001b[49m\u001b[43m \u001b[49m\u001b[38;5;241;43m*\u001b[39;49m\u001b[38;5;241;43m*\u001b[39;49m\u001b[43mkwds\u001b[49m\u001b[43m)\u001b[49m\n\u001b[0;32m    622\u001b[0m \u001b[38;5;28;01mif\u001b[39;00m chunksize \u001b[38;5;129;01mor\u001b[39;00m iterator:\n\u001b[0;32m    623\u001b[0m     \u001b[38;5;28;01mreturn\u001b[39;00m parser\n",
      "File \u001b[1;32mc:\\Users\\k513eq\\AppData\\Local\\Programs\\Python\\Python311\\Lib\\site-packages\\pandas\\io\\parsers\\readers.py:1620\u001b[0m, in \u001b[0;36mTextFileReader.__init__\u001b[1;34m(self, f, engine, **kwds)\u001b[0m\n\u001b[0;32m   1617\u001b[0m     \u001b[38;5;28mself\u001b[39m\u001b[38;5;241m.\u001b[39moptions[\u001b[38;5;124m\"\u001b[39m\u001b[38;5;124mhas_index_names\u001b[39m\u001b[38;5;124m\"\u001b[39m] \u001b[38;5;241m=\u001b[39m kwds[\u001b[38;5;124m\"\u001b[39m\u001b[38;5;124mhas_index_names\u001b[39m\u001b[38;5;124m\"\u001b[39m]\n\u001b[0;32m   1619\u001b[0m \u001b[38;5;28mself\u001b[39m\u001b[38;5;241m.\u001b[39mhandles: IOHandles \u001b[38;5;241m|\u001b[39m \u001b[38;5;28;01mNone\u001b[39;00m \u001b[38;5;241m=\u001b[39m \u001b[38;5;28;01mNone\u001b[39;00m\n\u001b[1;32m-> 1620\u001b[0m \u001b[38;5;28mself\u001b[39m\u001b[38;5;241m.\u001b[39m_engine \u001b[38;5;241m=\u001b[39m \u001b[38;5;28;43mself\u001b[39;49m\u001b[38;5;241;43m.\u001b[39;49m\u001b[43m_make_engine\u001b[49m\u001b[43m(\u001b[49m\u001b[43mf\u001b[49m\u001b[43m,\u001b[49m\u001b[43m \u001b[49m\u001b[38;5;28;43mself\u001b[39;49m\u001b[38;5;241;43m.\u001b[39;49m\u001b[43mengine\u001b[49m\u001b[43m)\u001b[49m\n",
      "File \u001b[1;32mc:\\Users\\k513eq\\AppData\\Local\\Programs\\Python\\Python311\\Lib\\site-packages\\pandas\\io\\parsers\\readers.py:1880\u001b[0m, in \u001b[0;36mTextFileReader._make_engine\u001b[1;34m(self, f, engine)\u001b[0m\n\u001b[0;32m   1878\u001b[0m     \u001b[38;5;28;01mif\u001b[39;00m \u001b[38;5;124m\"\u001b[39m\u001b[38;5;124mb\u001b[39m\u001b[38;5;124m\"\u001b[39m \u001b[38;5;129;01mnot\u001b[39;00m \u001b[38;5;129;01min\u001b[39;00m mode:\n\u001b[0;32m   1879\u001b[0m         mode \u001b[38;5;241m+\u001b[39m\u001b[38;5;241m=\u001b[39m \u001b[38;5;124m\"\u001b[39m\u001b[38;5;124mb\u001b[39m\u001b[38;5;124m\"\u001b[39m\n\u001b[1;32m-> 1880\u001b[0m \u001b[38;5;28mself\u001b[39m\u001b[38;5;241m.\u001b[39mhandles \u001b[38;5;241m=\u001b[39m \u001b[43mget_handle\u001b[49m\u001b[43m(\u001b[49m\n\u001b[0;32m   1881\u001b[0m \u001b[43m    \u001b[49m\u001b[43mf\u001b[49m\u001b[43m,\u001b[49m\n\u001b[0;32m   1882\u001b[0m \u001b[43m    \u001b[49m\u001b[43mmode\u001b[49m\u001b[43m,\u001b[49m\n\u001b[0;32m   1883\u001b[0m \u001b[43m    \u001b[49m\u001b[43mencoding\u001b[49m\u001b[38;5;241;43m=\u001b[39;49m\u001b[38;5;28;43mself\u001b[39;49m\u001b[38;5;241;43m.\u001b[39;49m\u001b[43moptions\u001b[49m\u001b[38;5;241;43m.\u001b[39;49m\u001b[43mget\u001b[49m\u001b[43m(\u001b[49m\u001b[38;5;124;43m\"\u001b[39;49m\u001b[38;5;124;43mencoding\u001b[39;49m\u001b[38;5;124;43m\"\u001b[39;49m\u001b[43m,\u001b[49m\u001b[43m \u001b[49m\u001b[38;5;28;43;01mNone\u001b[39;49;00m\u001b[43m)\u001b[49m\u001b[43m,\u001b[49m\n\u001b[0;32m   1884\u001b[0m \u001b[43m    \u001b[49m\u001b[43mcompression\u001b[49m\u001b[38;5;241;43m=\u001b[39;49m\u001b[38;5;28;43mself\u001b[39;49m\u001b[38;5;241;43m.\u001b[39;49m\u001b[43moptions\u001b[49m\u001b[38;5;241;43m.\u001b[39;49m\u001b[43mget\u001b[49m\u001b[43m(\u001b[49m\u001b[38;5;124;43m\"\u001b[39;49m\u001b[38;5;124;43mcompression\u001b[39;49m\u001b[38;5;124;43m\"\u001b[39;49m\u001b[43m,\u001b[49m\u001b[43m \u001b[49m\u001b[38;5;28;43;01mNone\u001b[39;49;00m\u001b[43m)\u001b[49m\u001b[43m,\u001b[49m\n\u001b[0;32m   1885\u001b[0m \u001b[43m    \u001b[49m\u001b[43mmemory_map\u001b[49m\u001b[38;5;241;43m=\u001b[39;49m\u001b[38;5;28;43mself\u001b[39;49m\u001b[38;5;241;43m.\u001b[39;49m\u001b[43moptions\u001b[49m\u001b[38;5;241;43m.\u001b[39;49m\u001b[43mget\u001b[49m\u001b[43m(\u001b[49m\u001b[38;5;124;43m\"\u001b[39;49m\u001b[38;5;124;43mmemory_map\u001b[39;49m\u001b[38;5;124;43m\"\u001b[39;49m\u001b[43m,\u001b[49m\u001b[43m \u001b[49m\u001b[38;5;28;43;01mFalse\u001b[39;49;00m\u001b[43m)\u001b[49m\u001b[43m,\u001b[49m\n\u001b[0;32m   1886\u001b[0m \u001b[43m    \u001b[49m\u001b[43mis_text\u001b[49m\u001b[38;5;241;43m=\u001b[39;49m\u001b[43mis_text\u001b[49m\u001b[43m,\u001b[49m\n\u001b[0;32m   1887\u001b[0m \u001b[43m    \u001b[49m\u001b[43merrors\u001b[49m\u001b[38;5;241;43m=\u001b[39;49m\u001b[38;5;28;43mself\u001b[39;49m\u001b[38;5;241;43m.\u001b[39;49m\u001b[43moptions\u001b[49m\u001b[38;5;241;43m.\u001b[39;49m\u001b[43mget\u001b[49m\u001b[43m(\u001b[49m\u001b[38;5;124;43m\"\u001b[39;49m\u001b[38;5;124;43mencoding_errors\u001b[39;49m\u001b[38;5;124;43m\"\u001b[39;49m\u001b[43m,\u001b[49m\u001b[43m \u001b[49m\u001b[38;5;124;43m\"\u001b[39;49m\u001b[38;5;124;43mstrict\u001b[39;49m\u001b[38;5;124;43m\"\u001b[39;49m\u001b[43m)\u001b[49m\u001b[43m,\u001b[49m\n\u001b[0;32m   1888\u001b[0m \u001b[43m    \u001b[49m\u001b[43mstorage_options\u001b[49m\u001b[38;5;241;43m=\u001b[39;49m\u001b[38;5;28;43mself\u001b[39;49m\u001b[38;5;241;43m.\u001b[39;49m\u001b[43moptions\u001b[49m\u001b[38;5;241;43m.\u001b[39;49m\u001b[43mget\u001b[49m\u001b[43m(\u001b[49m\u001b[38;5;124;43m\"\u001b[39;49m\u001b[38;5;124;43mstorage_options\u001b[39;49m\u001b[38;5;124;43m\"\u001b[39;49m\u001b[43m,\u001b[49m\u001b[43m \u001b[49m\u001b[38;5;28;43;01mNone\u001b[39;49;00m\u001b[43m)\u001b[49m\u001b[43m,\u001b[49m\n\u001b[0;32m   1889\u001b[0m \u001b[43m\u001b[49m\u001b[43m)\u001b[49m\n\u001b[0;32m   1890\u001b[0m \u001b[38;5;28;01massert\u001b[39;00m \u001b[38;5;28mself\u001b[39m\u001b[38;5;241m.\u001b[39mhandles \u001b[38;5;129;01mis\u001b[39;00m \u001b[38;5;129;01mnot\u001b[39;00m \u001b[38;5;28;01mNone\u001b[39;00m\n\u001b[0;32m   1891\u001b[0m f \u001b[38;5;241m=\u001b[39m \u001b[38;5;28mself\u001b[39m\u001b[38;5;241m.\u001b[39mhandles\u001b[38;5;241m.\u001b[39mhandle\n",
      "File \u001b[1;32mc:\\Users\\k513eq\\AppData\\Local\\Programs\\Python\\Python311\\Lib\\site-packages\\pandas\\io\\common.py:873\u001b[0m, in \u001b[0;36mget_handle\u001b[1;34m(path_or_buf, mode, encoding, compression, memory_map, is_text, errors, storage_options)\u001b[0m\n\u001b[0;32m    868\u001b[0m \u001b[38;5;28;01melif\u001b[39;00m \u001b[38;5;28misinstance\u001b[39m(handle, \u001b[38;5;28mstr\u001b[39m):\n\u001b[0;32m    869\u001b[0m     \u001b[38;5;66;03m# Check whether the filename is to be opened in binary mode.\u001b[39;00m\n\u001b[0;32m    870\u001b[0m     \u001b[38;5;66;03m# Binary mode does not support 'encoding' and 'newline'.\u001b[39;00m\n\u001b[0;32m    871\u001b[0m     \u001b[38;5;28;01mif\u001b[39;00m ioargs\u001b[38;5;241m.\u001b[39mencoding \u001b[38;5;129;01mand\u001b[39;00m \u001b[38;5;124m\"\u001b[39m\u001b[38;5;124mb\u001b[39m\u001b[38;5;124m\"\u001b[39m \u001b[38;5;129;01mnot\u001b[39;00m \u001b[38;5;129;01min\u001b[39;00m ioargs\u001b[38;5;241m.\u001b[39mmode:\n\u001b[0;32m    872\u001b[0m         \u001b[38;5;66;03m# Encoding\u001b[39;00m\n\u001b[1;32m--> 873\u001b[0m         handle \u001b[38;5;241m=\u001b[39m \u001b[38;5;28;43mopen\u001b[39;49m\u001b[43m(\u001b[49m\n\u001b[0;32m    874\u001b[0m \u001b[43m            \u001b[49m\u001b[43mhandle\u001b[49m\u001b[43m,\u001b[49m\n\u001b[0;32m    875\u001b[0m \u001b[43m            \u001b[49m\u001b[43mioargs\u001b[49m\u001b[38;5;241;43m.\u001b[39;49m\u001b[43mmode\u001b[49m\u001b[43m,\u001b[49m\n\u001b[0;32m    876\u001b[0m \u001b[43m            \u001b[49m\u001b[43mencoding\u001b[49m\u001b[38;5;241;43m=\u001b[39;49m\u001b[43mioargs\u001b[49m\u001b[38;5;241;43m.\u001b[39;49m\u001b[43mencoding\u001b[49m\u001b[43m,\u001b[49m\n\u001b[0;32m    877\u001b[0m \u001b[43m            \u001b[49m\u001b[43merrors\u001b[49m\u001b[38;5;241;43m=\u001b[39;49m\u001b[43merrors\u001b[49m\u001b[43m,\u001b[49m\n\u001b[0;32m    878\u001b[0m \u001b[43m            \u001b[49m\u001b[43mnewline\u001b[49m\u001b[38;5;241;43m=\u001b[39;49m\u001b[38;5;124;43m\"\u001b[39;49m\u001b[38;5;124;43m\"\u001b[39;49m\u001b[43m,\u001b[49m\n\u001b[0;32m    879\u001b[0m \u001b[43m        \u001b[49m\u001b[43m)\u001b[49m\n\u001b[0;32m    880\u001b[0m     \u001b[38;5;28;01melse\u001b[39;00m:\n\u001b[0;32m    881\u001b[0m         \u001b[38;5;66;03m# Binary mode\u001b[39;00m\n\u001b[0;32m    882\u001b[0m         handle \u001b[38;5;241m=\u001b[39m \u001b[38;5;28mopen\u001b[39m(handle, ioargs\u001b[38;5;241m.\u001b[39mmode)\n",
      "\u001b[1;31mFileNotFoundError\u001b[0m: [Errno 2] No such file or directory: 'Data/raw_data.csv'"
     ]
    }
   ],
   "source": [
    "import pandas as pd\n",
    "\n",
    "data = pd.read_csv('Data/raw_data.csv')\n"
   ]
  },
  {
   "cell_type": "code",
   "execution_count": 3,
   "id": "abe07a8c",
   "metadata": {},
   "outputs": [
    {
     "data": {
      "text/html": [
       "<div>\n",
       "<style scoped>\n",
       "    .dataframe tbody tr th:only-of-type {\n",
       "        vertical-align: middle;\n",
       "    }\n",
       "\n",
       "    .dataframe tbody tr th {\n",
       "        vertical-align: top;\n",
       "    }\n",
       "\n",
       "    .dataframe thead th {\n",
       "        text-align: right;\n",
       "    }\n",
       "</style>\n",
       "<table border=\"1\" class=\"dataframe\">\n",
       "  <thead>\n",
       "    <tr style=\"text-align: right;\">\n",
       "      <th></th>\n",
       "      <th>Category</th>\n",
       "      <th>Resume</th>\n",
       "    </tr>\n",
       "  </thead>\n",
       "  <tbody>\n",
       "    <tr>\n",
       "      <th>0</th>\n",
       "      <td>Data Science</td>\n",
       "      <td>Skills * Programming Languages: Python (pandas...</td>\n",
       "    </tr>\n",
       "    <tr>\n",
       "      <th>1</th>\n",
       "      <td>Data Science</td>\n",
       "      <td>Education Details \\r\\nMay 2013 to May 2017 B.E...</td>\n",
       "    </tr>\n",
       "    <tr>\n",
       "      <th>2</th>\n",
       "      <td>Data Science</td>\n",
       "      <td>Areas of Interest Deep Learning, Control Syste...</td>\n",
       "    </tr>\n",
       "    <tr>\n",
       "      <th>3</th>\n",
       "      <td>Data Science</td>\n",
       "      <td>Skills â¢ R â¢ Python â¢ SAP HANA â¢ Table...</td>\n",
       "    </tr>\n",
       "    <tr>\n",
       "      <th>4</th>\n",
       "      <td>Data Science</td>\n",
       "      <td>Education Details \\r\\n MCA   YMCAUST,  Faridab...</td>\n",
       "    </tr>\n",
       "  </tbody>\n",
       "</table>\n",
       "</div>"
      ],
      "text/plain": [
       "       Category                                             Resume\n",
       "0  Data Science  Skills * Programming Languages: Python (pandas...\n",
       "1  Data Science  Education Details \\r\\nMay 2013 to May 2017 B.E...\n",
       "2  Data Science  Areas of Interest Deep Learning, Control Syste...\n",
       "3  Data Science  Skills â¢ R â¢ Python â¢ SAP HANA â¢ Table...\n",
       "4  Data Science  Education Details \\r\\n MCA   YMCAUST,  Faridab..."
      ]
     },
     "execution_count": 3,
     "metadata": {},
     "output_type": "execute_result"
    }
   ],
   "source": [
    "data.head()"
   ]
  },
  {
   "cell_type": "code",
   "execution_count": 6,
   "id": "30dec0ff",
   "metadata": {},
   "outputs": [],
   "source": [
    "resume_text = data.iloc[0].Resume"
   ]
  },
  {
   "cell_type": "code",
   "execution_count": 8,
   "id": "d3deeb5d",
   "metadata": {},
   "outputs": [
    {
     "data": {
      "text/plain": [
       "'Skills * Programming Languages: Python (pandas, numpy, scipy, scikit-learn, matplotlib), Sql, Java, JavaScript/JQuery. * Machine learning: Regression, SVM, NaÃ¯ve Bayes, KNN, Random Forest, Decision Trees, Boosting techniques, Cluster Analysis, Word Embedding, Sentiment Analysis, Natural Language processing, Dimensionality reduction, Topic Modelling (LDA, NMF), PCA & Neural Nets. * Database Visualizations: Mysql, SqlServer, Cassandra, Hbase, ElasticSearch D3.js, DC.js, Plotly, kibana, matplotlib, ggplot, Tableau. * Others: Regular Expression, HTML, CSS, Angular 6, Logstash, Kafka, Python Flask, Git, Docker, computer vision - Open CV and understanding of Deep learning.Education Details \\r\\n\\r\\nData Science Assurance Associate \\r\\n\\r\\nData Science Assurance Associate - Ernst & Young LLP\\r\\nSkill Details \\r\\nJAVASCRIPT- Exprience - 24 months\\r\\njQuery- Exprience - 24 months\\r\\nPython- Exprience - 24 monthsCompany Details \\r\\ncompany - Ernst & Young LLP\\r\\ndescription - Fraud Investigations and Dispute Services   Assurance\\r\\nTECHNOLOGY ASSISTED REVIEW\\r\\nTAR (Technology Assisted Review) assists in accelerating the review process and run analytics and generate reports.\\r\\n* Core member of a team helped in developing automated review platform tool from scratch for assisting E discovery domain, this tool implements predictive coding and topic modelling by automating reviews, resulting in reduced labor costs and time spent during the lawyers review.\\r\\n* Understand the end to end flow of the solution, doing research and development for classification models, predictive analysis and mining of the information present in text data. Worked on analyzing the outputs and precision monitoring for the entire tool.\\r\\n* TAR assists in predictive coding, topic modelling from the evidence by following EY standards. Developed the classifier models in order to identify \"red flags\" and fraud-related issues.\\r\\n\\r\\nTools & Technologies: Python, scikit-learn, tfidf, word2vec, doc2vec, cosine similarity, NaÃ¯ve Bayes, LDA, NMF for topic modelling, Vader and text blob for sentiment analysis. Matplot lib, Tableau dashboard for reporting.\\r\\n\\r\\nMULTIPLE DATA SCIENCE AND ANALYTIC PROJECTS (USA CLIENTS)\\r\\nTEXT ANALYTICS - MOTOR VEHICLE CUSTOMER REVIEW DATA * Received customer feedback survey data for past one year. Performed sentiment (Positive, Negative & Neutral) and time series analysis on customer comments across all 4 categories.\\r\\n* Created heat map of terms by survey category based on frequency of words * Extracted Positive and Negative words across all the Survey categories and plotted Word cloud.\\r\\n* Created customized tableau dashboards for effective reporting and visualizations.\\r\\nCHATBOT * Developed a user friendly chatbot for one of our Products which handle simple questions about hours of operation, reservation options and so on.\\r\\n* This chat bot serves entire product related questions. Giving overview of tool via QA platform and also give recommendation responses so that user question to build chain of relevant answer.\\r\\n* This too has intelligence to build the pipeline of questions as per user requirement and asks the relevant /recommended questions.\\r\\n\\r\\nTools & Technologies: Python, Natural language processing, NLTK, spacy, topic modelling, Sentiment analysis, Word Embedding, scikit-learn, JavaScript/JQuery, SqlServer\\r\\n\\r\\nINFORMATION GOVERNANCE\\r\\nOrganizations to make informed decisions about all of the information they store. The integrated Information Governance portfolio synthesizes intelligence across unstructured data sources and facilitates action to ensure organizations are best positioned to counter information risk.\\r\\n* Scan data from multiple sources of formats and parse different file formats, extract Meta data information, push results for indexing elastic search and created customized, interactive dashboards using kibana.\\r\\n* Preforming ROT Analysis on the data which give information of data which helps identify content that is either Redundant, Outdated, or Trivial.\\r\\n* Preforming full-text search analysis on elastic search with predefined methods which can tag as (PII) personally identifiable information (social security numbers, addresses, names, etc.) which frequently targeted during cyber-attacks.\\r\\nTools & Technologies: Python, Flask, Elastic Search, Kibana\\r\\n\\r\\nFRAUD ANALYTIC PLATFORM\\r\\nFraud Analytics and investigative platform to review all red flag cases.\\r\\nâ\\x80¢ FAP is a Fraud Analytics and investigative platform with inbuilt case manager and suite of Analytics for various ERP systems.\\r\\n* It can be used by clients to interrogate their Accounting systems for identifying the anomalies which can be indicators of fraud by running advanced analytics\\r\\nTools & Technologies: HTML, JavaScript, SqlServer, JQuery, CSS, Bootstrap, Node.js, D3.js, DC.js'"
      ]
     },
     "execution_count": 8,
     "metadata": {},
     "output_type": "execute_result"
    }
   ],
   "source": [
    "resume_text"
   ]
  },
  {
   "cell_type": "code",
   "execution_count": null,
   "id": "7f22477b",
   "metadata": {},
   "outputs": [
    {
     "name": "stdout",
     "output_type": "stream",
     "text": [
      "{'title': 'Data Science Assurance Associate', 'skills_tech_stack': ['Python (pandas', 'numpy', 'scipy', 'scikit-learn', 'matplotlib)', 'Sql', 'Java', 'JavaScript/JQuery. * Machine learning: Regression', 'SVM', 'NaÃ¯ve Bayes', 'KNN', 'Random Forest', 'Decision Trees', 'Boosting techniques', 'Cluster Analysis', 'Word Embedding', 'Sentiment Analysis', 'Natural Language processing', 'Dimensionality reduction', 'Topic Modelling (LDA', 'NMF)', 'PCA & Neural Nets. * Database Visualizations: Mysql', 'SqlServer', 'Cassandra', 'Hbase', 'ElasticSearch D3.js', 'DC.js', 'Plotly', 'kibana', 'matplotlib', 'ggplot', 'Tableau. * Others: Regular Expression', 'HTML', 'CSS', 'Angular 6', 'Logstash', 'Kafka', 'Python Flask', 'Git', 'Docker', 'computer vision - Open CV and understanding of Deep learning.', 'JAVASCRIPT- Exprience - 24 months', 'jQuery- Exprience - 24 months', 'Python- Exprience - 24 months', 'Python', 'tfidf', 'word2vec', 'doc2vec', 'cosine similarity', 'LDA', 'NMF for topic modelling', 'Vader and text blob for sentiment analysis. Matplot lib', 'Tableau dashboard for reporting.', 'MULTIPLE DATA SCIENCE AND ANALYTIC PROJECTS (USA CLIENTS)', 'TEXT ANALYTICS - MOTOR VEHICLE CUSTOMER REVIEW DATA * Received customer feedback survey data for past one year. Performed sentiment (Positive', 'Negative & Neutral) and time series analysis on customer comments across all 4 categories.', '* Created heat map of terms by survey category based on frequency of words * Extracted Positive and Negative words across all the Survey categories and plotted Word cloud.', '* Created customized tableau dashboards for effective reporting and visualizations.', 'CHATBOT * Developed a user friendly chatbot for one of our Products which handle simple questions about hours of operation', 'reservation options and so on.', '* This chat bot serves entire product related questions. Giving overview of tool via QA platform and also give recommendation responses so that user question to build chain of relevant answer.', '* This too has intelligence to build the pipeline of questions as per user requirement and asks the relevant /recommended questions.', 'Tools & Technologies: Python', 'NLTK', 'spacy', 'topic modelling', 'JavaScript/JQuery', 'INFORMATION GOVERNANCE', 'Organizations to make informed decisions about all of the information they store. The integrated Information Governance portfolio synthesizes intelligence across unstructured data sources and facilitates action to ensure organizations are best positioned to counter information risk.', '* Scan data from multiple sources of formats and parse different file formats', 'extract Meta data information', 'push results for indexing elastic search and created customized', 'interactive dashboards using kibana.', '* Preforming ROT Analysis on the data which give information of data which helps identify content that is either Redundant', 'Outdated', 'or Trivial.', '* Preforming full-text search analysis on elastic search with predefined methods which can tag as (PII) personally identifiable information (social security numbers', 'addresses', 'names', 'etc.) which frequently targeted during cyber-attacks.', 'Flask', 'Elastic Search', 'FRAUD ANALYTIC PLATFORM', 'Fraud Analytics and investigative platform to review all red flag cases.', 'â\\x80¢ FAP is a Fraud Analytics and investigative platform with inbuilt case manager and suite of Analytics for various ERP systems.', '* It can be used by clients to interrogate their Accounting systems for identifying the anomalies which can be indicators of fraud by running advanced analytics', 'Tools & Technologies: HTML', 'JavaScript', 'JQuery', 'Bootstrap', 'Node.js', 'D3.js'], 'educational_requirements': ['bedding, Sentiment Analysis, Natural Language processing, Dimensionality reduction, Topic Modelling (LDA, NMF), PCA & Neural Nets. * Database Visualizations: Mysql, SqlServer, Cassandra, Hbase, ElasticSearch D3.js, DC.js, Plotly, kibana, matplotlib, ggplot, Tableau. * Others: Regular Expression, HTML, CSS, Angular 6, Logstash, Kafka, Python Flask, Git, Docker, computer vision - Open CV and understanding of Deep learning.Education Details', 'bedding, scikit-learn, JavaScript/JQuery, SqlServer', 'ber of a team helped in developing automated review platform tool from scratch for assisting E discovery domain, this tool implements predictive coding and topic modelling by automating reviews, resulting in reduced labor costs and time spent during the lawyers review.', 'be used by clients to interrogate their Accounting systems for identifying the anomalies which can be indicators of fraud by running advanced analytics', 'bers, addresses, names, etc.) which frequently targeted during cyber-attacks.', 'best positioned to counter information risk.'], 'seniority': '', 'total_years_experience': 0.0}\n"
     ]
    }
   ],
   "source": [
    "import re\n",
    "from collections import Counter\n",
    "\n",
    "# Regex patterns\n",
    "TITLE_PATTERN = re.compile(r\"\\b(?:Data Scientist|Data Science Assurance Associate|Machine Learning Engineer|Software Engineer|Developer|Engineer|Analyst|Consultant)\\b\", re.IGNORECASE)\n",
    "SKILLS_PATTERN = re.compile(r\"(Skills.*?:|Tools & Technologies:|Skill Details)(.*?)(?=(?:Education Details|Company Details|$))\", re.IGNORECASE | re.DOTALL)\n",
    "EDU_PATTERN = re.compile(r\"(?:B\\.?E\\.?|B\\.?Tech|M\\.?Tech|Bachelor|Master|Ph\\.?D|Diploma).*?(?=\\s{2,}|\\n|$)\", re.IGNORECASE)\n",
    "YOE_PATTERN = re.compile(r\"(\\d+)\\s*\\+?\\s*(?:years|yrs|yoe|experience)\", re.IGNORECASE)\n",
    "EXPERIENCE_LINE_PATTERN = re.compile(r\"(?:Experience\\s*-\\s*)(\\d+)\\s*(?:months|years)\", re.IGNORECASE)\n",
    "\n",
    "def extract_title(text):\n",
    "    titles = TITLE_PATTERN.findall(text)\n",
    "    return titles[0] if titles else \"\"\n",
    "\n",
    "def extract_skills(text):\n",
    "    skills_found = []\n",
    "    for match in SKILLS_PATTERN.findall(text):\n",
    "        skills_text = match[1]\n",
    "        # Split on commas, semicolons, and newlines\n",
    "        parts = re.split(r\"[,\\n;]\", skills_text)\n",
    "        skills_found.extend([p.strip() for p in parts if p.strip()])\n",
    "    # Remove duplicates while preserving order\n",
    "    seen = set()\n",
    "    skills_clean = []\n",
    "    for skill in skills_found:\n",
    "        if skill.lower() not in seen:\n",
    "            seen.add(skill.lower())\n",
    "            skills_clean.append(skill)\n",
    "    return skills_clean\n",
    "\n",
    "def extract_education(text):\n",
    "    return list(set(EDU_PATTERN.findall(text)))\n",
    "\n",
    "def infer_seniority(text):\n",
    "    # Gather years from patterns\n",
    "    years = [int(y) for y in YOE_PATTERN.findall(text)]\n",
    "    months = [int(m) for m in EXPERIENCE_LINE_PATTERN.findall(text)]\n",
    "    total_years = sum(years) + sum(months) / 12\n",
    "    # Infer seniority\n",
    "    if total_years >= 7:\n",
    "        level = \"Senior\"\n",
    "    elif total_years >= 3:\n",
    "        level = \"Mid-level\"\n",
    "    elif total_years > 0:\n",
    "        level = \"Junior\"\n",
    "    else:\n",
    "        level = \"\"\n",
    "    return level, round(total_years, 1)\n",
    "\n",
    "def extract_cv_fields(cv_text):\n",
    "    return {\n",
    "        \"title\": extract_title(cv_text),\n",
    "        \"skills_tech_stack\": extract_skills(cv_text),\n",
    "        \"educational_requirements\": extract_education(cv_text),\n",
    "        \"seniority\": infer_seniority(cv_text)[0],\n",
    "        \"total_years_experience\": infer_seniority(cv_text)[1]\n",
    "    }\n"
   ]
  },
  {
   "cell_type": "code",
   "execution_count": null,
   "id": "6020ec5b",
   "metadata": {},
   "outputs": [
    {
     "name": "stdout",
     "output_type": "stream",
     "text": [
      "✅ Extracted data saved to cv_dataset.csv\n"
     ]
    }
   ],
   "source": [
    "import pandas as pd\n",
    "import uuid\n",
    "import random\n",
    "\n",
    "# Example name pool for random generation\n",
    "FIRST_NAMES = [\"Alex\", \"Jordan\", \"Taylor\", \"Casey\", \"Morgan\", \"Jamie\", \"Riley\", \"Avery\", \"Reese\", \"Drew\"]\n",
    "LAST_NAMES = [\"Smith\", \"Johnson\", \"Taylor\", \"Brown\", \"Anderson\", \"Lee\", \"Martinez\", \"Davis\", \"Clark\", \"Walker\"]\n",
    "\n",
    "def random_name():\n",
    "    return f\"{random.choice(FIRST_NAMES)} {random.choice(LAST_NAMES)}\"\n",
    "\n",
    "def random_id():\n",
    "    return str(uuid.uuid4())[:8]  # short unique ID\n",
    "\n",
    "# Store results\n",
    "results = []\n",
    "\n",
    "for i in range(len(data)):\n",
    "    resume_text = str(data.iloc[i].Resume)  # ensure string\n",
    "    extracted = extract_cv_fields(resume_text)\n",
    "    results.append({\n",
    "        \"candidate_id\": random_id(),\n",
    "        \"name\": random_name(),\n",
    "        \"candidate_title\": extracted[\"title\"],\n",
    "        \"education\": \", \".join(extracted[\"educational_requirements\"]),\n",
    "        \"skills_tech_stack\": \", \".join(extracted[\"skills_tech_stack\"]),\n",
    "        \"seniority\": extracted[\"seniority\"],\n",
    "        \"total_years_experience\": extracted[\"total_years_experience\"]\n",
    "    })\n",
    "\n",
    "# Save to CSV\n",
    "df_results = pd.DataFrame(results)\n",
    "df_results.to_csv(\"cv_dataset.csv\", index=False, encoding=\"utf-8\")\n",
    "\n",
    "print(\"✅ Extracted data saved to cv_dataset.csv\")\n"
   ]
  },
  {
   "cell_type": "code",
   "execution_count": 3,
   "id": "19a0919d",
   "metadata": {},
   "outputs": [],
   "source": [
    "import re\n",
    "import random\n",
    "import pandas as pd\n",
    "from faker import Faker\n",
    "from datetime import datetime, timedelta\n",
    "\n",
    "fake = Faker()\n",
    "\n",
    "def generate_random_email(name):\n",
    "    return f\"{name.lower().replace(' ', '.')}@{fake.free_email_domain()}\"\n",
    "\n",
    "def calculate_yoe(text):\n",
    "    matches = re.findall(r'(\\d+)\\s*(?:\\+?\\s*)?(?:years?|yrs?)', text, flags=re.IGNORECASE)\n",
    "    years = [int(m) for m in matches]\n",
    "    return max(years) if years else 0\n",
    "\n",
    "def infer_seniority(yoe):\n",
    "    if yoe < 2:\n",
    "        return \"Junior\"\n",
    "    elif yoe < 5:\n",
    "        return \"Mid-level\"\n",
    "    elif yoe < 10:\n",
    "        return \"Senior\"\n",
    "    else:\n",
    "        return \"Lead/Principal\"\n",
    "\n",
    "def extract_candidate_title(text):\n",
    "    # Look for patterns like \"Data Scientist\", \"Software Engineer\", etc.\n",
    "    match = re.search(r'(?:Title|Position|Role|Designation)\\s*[:-]?\\s*(.+)', text, re.IGNORECASE)\n",
    "    if match:\n",
    "        return match.group(1).split('\\n')[0].strip()\n",
    "    # Try job title-like pattern from first few lines\n",
    "    lines = text.strip().split(\"\\n\")\n",
    "    for line in lines[:5]:\n",
    "        if any(word.lower() in line.lower() for word in [\"engineer\", \"scientist\", \"developer\", \"manager\", \"analyst\"]):\n",
    "            return line.strip()\n",
    "    return \"\"\n",
    "\n",
    "def extract_about(text):\n",
    "    # Take the first ~500 chars as a summary\n",
    "    about = re.sub(r'\\s+', ' ', text.strip())\n",
    "    return about[:500] + (\"...\" if len(about) > 500 else \"\")\n",
    "\n",
    "def extract_employment_type(text):\n",
    "    types = [\"full-time\", \"part-time\", \"contract\", \"internship\", \"freelance\", \"temporary\"]\n",
    "    for t in types:\n",
    "        if re.search(t, text, re.IGNORECASE):\n",
    "            return t.capitalize()\n",
    "    return \"\"\n",
    "\n",
    "def extract_cv_fields(cv_text):\n",
    "    full_name = fake.name()\n",
    "    email = generate_random_email(full_name)\n",
    "    location = f\"{fake.city()}, {fake.country()}\"\n",
    "    created_at = fake.date_time_between(start_date=\"-2y\", end_date=\"now\").isoformat()\n",
    "\n",
    "    yoe = calculate_yoe(cv_text)\n",
    "    seniority = infer_seniority(yoe)\n",
    "    title = extract_candidate_title(cv_text)\n",
    "    about = extract_about(cv_text)\n",
    "    emp_type = extract_employment_type(cv_text)\n",
    "\n",
    "    return {\n",
    "        \"candidate_email\": email,\n",
    "        \"full_name\": full_name,\n",
    "        \"candidate_title\": title,\n",
    "        \"about\": about,\n",
    "        \"location\": location,\n",
    "        \"preferred_employment_type\": emp_type,\n",
    "        \"yoe\": yoe,\n",
    "        \"seniority\": seniority,\n",
    "        \"created_at\": created_at\n",
    "    }\n",
    "\n",
    "# Example: process all CVs in a DataFrame\n",
    "def process_resumes_to_csv(df, output_file=\"candidates_parsed.csv\"):\n",
    "    results = []\n",
    "    for i in range(len(df)):\n",
    "        parsed = extract_cv_fields(df.iloc[i].Resume)\n",
    "        results.append(parsed)\n",
    "    pd.DataFrame(results).to_csv(output_file, index=False, encoding=\"utf-8\")\n",
    "    print(f\"Saved {len(results)} candidates to {output_file}\")\n",
    "\n",
    "# Example usage:\n",
    "# data = pd.read_csv(\"resumes.csv\")  # must have 'Resume' column\n",
    "# process_resumes_to_csv(data)\n"
   ]
  },
  {
   "cell_type": "code",
   "execution_count": 2,
   "id": "cb22d903",
   "metadata": {},
   "outputs": [
    {
     "name": "stderr",
     "output_type": "stream",
     "text": [
      "\n",
      "[notice] A new release of pip is available: 24.0 -> 25.2\n",
      "[notice] To update, run: python.exe -m pip install --upgrade pip\n"
     ]
    }
   ],
   "source": [
    "!pip install faker --quiet"
   ]
  },
  {
   "cell_type": "code",
   "execution_count": 4,
   "id": "8b8ca826",
   "metadata": {},
   "outputs": [
    {
     "name": "stdout",
     "output_type": "stream",
     "text": [
      "Saved 962 candidates to candidates_parsed.csv\n"
     ]
    }
   ],
   "source": [
    "data = pd.read_csv(\"../Data/raw_data_cvs.csv\")  # must have 'Resume' column\n",
    "process_resumes_to_csv(data)"
   ]
  }
 ],
 "metadata": {
  "kernelspec": {
   "display_name": "Python 3",
   "language": "python",
   "name": "python3"
  },
  "language_info": {
   "codemirror_mode": {
    "name": "ipython",
    "version": 3
   },
   "file_extension": ".py",
   "mimetype": "text/x-python",
   "name": "python",
   "nbconvert_exporter": "python",
   "pygments_lexer": "ipython3",
   "version": "3.11.9"
  }
 },
 "nbformat": 4,
 "nbformat_minor": 5
}
